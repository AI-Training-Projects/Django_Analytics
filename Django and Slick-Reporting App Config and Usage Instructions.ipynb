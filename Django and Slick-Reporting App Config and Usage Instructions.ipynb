{
 "cells": [
  {
   "cell_type": "markdown",
   "metadata": {},
   "source": [
    "## Django and \"Slick-Reporting\" App Config and Usage Instructions"
   ]
  },
  {
   "cell_type": "markdown",
   "metadata": {},
   "source": [
    "Let me explain each Django command and then guide you through customizing the demo app:\n",
    "\n",
    "### Django Commands Explained:\n",
    "\n",
    "1. `python manage.py migrate`\n",
    "   - This command applies any pending database migrations\n",
    "   - Migrations are Django's way of updating the database schema to match your models\n",
    "   - When you run it, Django creates necessary database tables and relationships\n",
    "   - In slick-reporting's case, it sets up tables for reporting features\n",
    "\n",
    "2. `python manage.py collectstatic`\n",
    "   - Gathers all static files (CSS, JavaScript, images) into one location\n",
    "   - Important for slick-reporting because it uses JavaScript libraries for charts\n",
    "   - Collects files from the SLICK_REPORTING_SETTINGS configuration in demo_proj/settings.py\n",
    "   - Places them where the web server can serve them\n",
    "\n",
    "3. `python manage.py runserver`\n",
    "   - Starts Django's development server\n",
    "   - Makes your app available at http://127.0.0.1:8000/\n",
    "   - Auto-reloads when you make code changes\n",
    "   - Not meant for production use\n"
   ]
  },
  {
   "cell_type": "markdown",
   "metadata": {},
   "source": [
    "# A Common Django configuration error \"Collecting Static Files\""
   ]
  },
  {
   "cell_type": "markdown",
   "metadata": {},
   "source": [
    "Django needs to know where to collect all static files, but the `STATIC_ROOT` setting isn't defined in your `settings.py` file.\n",
    "\n",
    "Here's how to fix it:\n",
    "\n",
    "1. Open your project's `settings.py` file\n",
    "2. Add the `STATIC_ROOT` setting to tell Django where to collect static files\n",
    "\n"
   ]
  },
  {
   "cell_type": "code",
   "execution_count": null,
   "metadata": {},
   "outputs": [],
   "source": [
    "# Add this near your other static files settings\n",
    "STATIC_ROOT = os.path.join(BASE_DIR, 'staticfiles')\n",
    "\n",
    "# Make sure you also have these settings (they're probably already there)\n",
    "STATIC_URL = '/static/'\n",
    "STATICFILES_DIRS = [\n",
    "    os.path.join(BASE_DIR, 'static'),\n",
    "]"
   ]
  },
  {
   "cell_type": "markdown",
   "metadata": {},
   "source": [
    "\n",
    "\n",
    "Then:\n",
    "\n",
    "1. Create the staticfiles directory:\n"
   ]
  },
  {
   "cell_type": "code",
   "execution_count": null,
   "metadata": {
    "vscode": {
     "languageId": "bash"
    }
   },
   "outputs": [],
   "source": [
    "mkdir staticfiles"
   ]
  },
  {
   "cell_type": "markdown",
   "metadata": {},
   "source": [
    "\n",
    "\n",
    "2. Run collectstatic again:\n"
   ]
  },
  {
   "cell_type": "code",
   "execution_count": null,
   "metadata": {
    "vscode": {
     "languageId": "bash"
    }
   },
   "outputs": [],
   "source": [
    "python manage.py collectstatic"
   ]
  },
  {
   "cell_type": "markdown",
   "metadata": {},
   "source": [
    "\n",
    "\n",
    "### Why This Fix Works:\n",
    "- `STATIC_ROOT` is where Django will copy all static files during deployment\n",
    "- `staticfiles` is a common name for this directory (you can use a different name)\n",
    "- The directory must be different from where you store your development static files\n",
    "- This setting is required when `DEBUG=False` or when running `collectstatic`\n",
    "\n",
    "After this, the `collectstatic` command should work successfully."
   ]
  },
  {
   "cell_type": "markdown",
   "metadata": {},
   "source": [
    "## Create BOTH folders `static` and `staticfiles`\n"
   ]
  },
  {
   "cell_type": "markdown",
   "metadata": {},
   "source": [
    "In a Django project you need both folders for different purposes:\n",
    "\n",
    "### Directory Structure\n"
   ]
  },
  {
   "cell_type": "code",
   "execution_count": null,
   "metadata": {
    "vscode": {
     "languageId": ""
    }
   },
   "outputs": [],
   "source": [
    "demo_proj/\n",
    "├── static/           # Development static files (source)\n",
    "│   ├── css/\n",
    "│   ├── js/\n",
    "│   └── images/\n",
    "├── staticfiles/      # Collected static files (production)\n",
    "└── manage.py"
   ]
  },
  {
   "cell_type": "markdown",
   "metadata": {},
   "source": [
    "### Purpose of `static/` and `staticfiles/` folders\n",
    "\n",
    "1. `static/`\n",
    "   - Source folder for your development static files\n",
    "   - Where you put your custom CSS, JS, images\n",
    "   - Referenced by `STATICFILES_DIRS` in `settings.py`\n",
    "\n",
    "\n",
    "2. `staticfiles/`\n",
    "   - Destination for `collectstatic` command\n",
    "   - Combines all static files from:\n",
    "     - Your apps\n",
    "     - Third-party packages\n",
    "     - Your custom static files\n",
    "   - Referenced by `STATIC_ROOT` in `settings.py`\n",
    "   - Used by production web server\n",
    "\n",
    "This separation ensures development and production static files don't mix and allows proper static file handling in both environments."
   ]
  },
  {
   "cell_type": "markdown",
   "metadata": {},
   "source": []
  },
  {
   "cell_type": "markdown",
   "metadata": {},
   "source": [
    "## The correct process:\n",
    "\n",
    "### Steps\n",
    "1. Check current static files setup\n",
    "2. Create correct folder structure \n",
    "3. Update settings.py\n",
    "4. Populate static folder\n",
    "5. Run collectstatic\n",
    "\n",
    "### 1. Update \n",
    "\n",
    "`settings.py` to remove duplicates\n"
   ]
  },
  {
   "cell_type": "raw",
   "metadata": {
    "vscode": {
     "languageId": "raw"
    }
   },
   "source": [
    "# ...existing code...\n",
    "\n",
    "# Static files (CSS, JavaScript, Images)\n",
    "STATIC_URL = '/static/'\n",
    "STATIC_ROOT = os.path.join(BASE_DIR, 'staticfiles')\n",
    "STATICFILES_DIRS = [\n",
    "    os.path.join(BASE_DIR, 'static'),\n",
    "]\n",
    "\n",
    "# ...existing code..."
   ]
  },
  {
   "cell_type": "markdown",
   "metadata": {},
   "source": [
    "### 2. Create static folder structure\n",
    "\n",
    "Change directory into the folder `demo_proj` under the main project folder, in this case `Django_Analytics`.  \n",
    "\n",
    "    $ cd C:\\Users\\PowerUser\\Documents\\Github_NTAI_Apps\\Django_Analytics\\demo_proj\\"
   ]
  },
  {
   "cell_type": "raw",
   "metadata": {
    "vscode": {
     "languageId": "raw"
    }
   },
   "source": [
    "Then run each of the following commands: \n",
    "\n",
    "    $ mkdir static\n",
    "    $ mkdir static\\css\n",
    "    $ mkdir static\\js\n",
    "    $ mkdir static\\images\n",
    "\n",
    "Then run this command to `collect files` into the static directory folders: \n",
    "\n",
    "    $ xcopy staticfiles\\*.* static\\ /E /H /C /I\n"
   ]
  },
  {
   "cell_type": "markdown",
   "metadata": {},
   "source": [
    "\n",
    "\n",
    "### 3. Copy files FROM staticfiles TO static (if needed)\n"
   ]
  },
  {
   "cell_type": "code",
   "execution_count": null,
   "metadata": {
    "vscode": {
     "languageId": "batch"
    }
   },
   "outputs": [],
   "source": [
    "xcopy staticfiles\\*.* static\\ /E /H /C /I"
   ]
  },
  {
   "cell_type": "markdown",
   "metadata": {},
   "source": [
    "\n",
    "\n",
    "Note: The normal flow is:\n",
    "- You put source files in `static/`\n",
    "- Django collects them to `staticfiles/` with `collectstatic`\n",
    "- Not the other way around"
   ]
  },
  {
   "cell_type": "markdown",
   "metadata": {},
   "source": [
    "\n",
    "### Adding Data to the Demo:\n",
    "\n",
    "1. Create test data:\n"
   ]
  },
  {
   "cell_type": "raw",
   "metadata": {
    "vscode": {
     "languageId": "raw"
    }
   },
   "source": [
    "    $ cd demo_proj\n",
    "    $ python manage.py create_entries"
   ]
  },
  {
   "cell_type": "markdown",
   "metadata": {},
   "source": [
    "This command (specific to slick-reporting) generates sample data for the demo app.\n",
    "\n",
    "2. Access the admin interface:\n",
    "- Go to http://127.0.0.1:8000/admin\n",
    "- Log in with your superuser credentials\n",
    "- If you don't have a superuser yet, create one:\n"
   ]
  },
  {
   "cell_type": "code",
   "execution_count": null,
   "metadata": {
    "vscode": {
     "languageId": "bat"
    }
   },
   "outputs": [],
   "source": [
    "python manage.py createsuperuser"
   ]
  },
  {
   "cell_type": "markdown",
   "metadata": {},
   "source": [
    "\n",
    "\n",
    "3. View the reports:\n",
    "- Go to http://127.0.0.1:8000 \n",
    "- You should see the demo dashboard with sample charts\n",
    "\n",
    "### Customization:\n",
    "\n",
    "The demo app uses Bootstrap 5 and Crispy Forms for styling. The configuration is already set in demo_proj/settings.py:\n",
    "\n"
   ]
  },
  {
   "cell_type": "code",
   "execution_count": null,
   "metadata": {},
   "outputs": [],
   "source": [
    "CRISPY_TEMPLATE_PACK = \"bootstrap5\"\n",
    "CRISPY_ALLOWED_TEMPLATE_PACKS = \"bootstrap5\""
   ]
  },
  {
   "cell_type": "markdown",
   "metadata": {},
   "source": [
    "\n",
    "\n",
    "The reporting charts are configured through the \n",
    "\n",
    "SLICK_REPORTING_SETTINGS\n",
    "\n",
    " in the settings file. The demo uses ApexCharts for visualization.\n",
    "\n",
    "You can view sample reports at:\n",
    "- http://127.0.0.1:8000/dashboard/ - Shows the main dashboard\n",
    "- http://127.0.0.1:8000/admin/ - To manage data and reports"
   ]
  }
 ],
 "metadata": {
  "language_info": {
   "name": "python"
  }
 },
 "nbformat": 4,
 "nbformat_minor": 2
}
